{
 "cells": [
  {
   "cell_type": "code",
   "execution_count": 1,
   "metadata": {},
   "outputs": [],
   "source": [
    "import os\n",
    "os.chdir('/home/nibjohen/repos/MOTIP')\n",
    "from data import build_dataset\n",
    "from utils.utils import yaml_to_dict\n",
    "%load_ext autoreload\n",
    "%autoreload 2\n"
   ]
  },
  {
   "cell_type": "code",
   "execution_count": 2,
   "metadata": {},
   "outputs": [],
   "source": [
    "config_path = './configs/r50_deformable_detr_motip_dancetrack.yaml'\n",
    "cfg = yaml_to_dict(config_path)\n",
    "dataset = build_dataset(cfg)"
   ]
  },
  {
   "cell_type": "code",
   "execution_count": 10,
   "metadata": {},
   "outputs": [
    {
     "data": {
      "text/plain": [
       "['dancetrack0002', 'dancetrack0001']"
      ]
     },
     "execution_count": 10,
     "metadata": {},
     "output_type": "execute_result"
    }
   ],
   "source": [
    "unique_seq_names = []\n",
    "for tup in dataset.sample_frames_begin:\n",
    "    seq_name = tup[2]\n",
    "    if not seq_name in unique_seq_names:\n",
    "        unique_seq_names.append(seq_name)\n",
    "unique_seq_names"
   ]
  }
 ],
 "metadata": {
  "kernelspec": {
   "display_name": "motip",
   "language": "python",
   "name": "python3"
  },
  "language_info": {
   "codemirror_mode": {
    "name": "ipython",
    "version": 3
   },
   "file_extension": ".py",
   "mimetype": "text/x-python",
   "name": "python",
   "nbconvert_exporter": "python",
   "pygments_lexer": "ipython3",
   "version": "3.11.9"
  }
 },
 "nbformat": 4,
 "nbformat_minor": 2
}
